{
 "cells": [
  {
   "cell_type": "markdown",
   "id": "955d3bb7",
   "metadata": {},
   "source": [
    "# Analysing Galaxy Data From JWST\n",
    "---"
   ]
  },
  {
   "cell_type": "markdown",
   "id": "ba7ce85c",
   "metadata": {},
   "source": [
    "Papers:\n",
    "- _Two Remarkably Luminous Galaxy Candidates at $z ≈ 11 − 13$ Revealed by JWST_ - [PDF](https://arxiv.org/pdf/2207.09434.pdf)\n",
    "- _Early results from GLASS-JWST. III: Galaxy candidates at $z∼9-15$_ - [PDF](https://arxiv.org/pdf/2207.09436.pdf)"
   ]
  },
  {
   "cell_type": "code",
   "execution_count": null,
   "id": "012c4a91",
   "metadata": {},
   "outputs": [],
   "source": []
  }
 ],
 "metadata": {
  "kernelspec": {
   "display_name": "Python 3 (ipykernel)",
   "language": "python",
   "name": "python3"
  },
  "language_info": {
   "codemirror_mode": {
    "name": "ipython",
    "version": 3
   },
   "file_extension": ".py",
   "mimetype": "text/x-python",
   "name": "python",
   "nbconvert_exporter": "python",
   "pygments_lexer": "ipython3",
   "version": "3.9.7"
  }
 },
 "nbformat": 4,
 "nbformat_minor": 5
}
