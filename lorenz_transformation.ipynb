{
 "cells": [
  {
   "cell_type": "code",
   "execution_count": 1,
   "id": "5fbeb4f0",
   "metadata": {},
   "outputs": [],
   "source": [
    "from sympy import *\n",
    "from sympy.abc import *"
   ]
  },
  {
   "cell_type": "code",
   "execution_count": 6,
   "id": "c27e75ed",
   "metadata": {},
   "outputs": [
    {
     "data": {
      "text/latex": [
       "$\\displaystyle c \\left(t - \\frac{v x}{c^{2}}\\right)$"
      ],
      "text/plain": [
       "c*(t - v*x/c**2)"
      ]
     },
     "execution_count": 6,
     "metadata": {},
     "output_type": "execute_result"
    }
   ],
   "source": [
    "c*(t - v*x/c**2)"
   ]
  },
  {
   "cell_type": "code",
   "execution_count": 7,
   "id": "428ff7ba",
   "metadata": {},
   "outputs": [
    {
     "data": {
      "text/latex": [
       "$\\displaystyle \\frac{x}{t v + x}$"
      ],
      "text/plain": [
       "x/(t*v + x)"
      ]
     },
     "execution_count": 7,
     "metadata": {},
     "output_type": "execute_result"
    }
   ],
   "source": [
    "x / ((x + v*t) * ())"
   ]
  },
  {
   "cell_type": "code",
   "execution_count": 9,
   "id": "c7937d50",
   "metadata": {},
   "outputs": [],
   "source": [
    "import numpy as np"
   ]
  },
  {
   "cell_type": "code",
   "execution_count": null,
   "id": "ea9da1d6",
   "metadata": {},
   "outputs": [],
   "source": [
    "c = "
   ]
  },
  {
   "cell_type": "code",
   "execution_count": 10,
   "id": "2d1fbcae",
   "metadata": {},
   "outputs": [],
   "source": [
    "def lorenz_transform(x, t, v):\n",
    "    xdot = (x - v*t) / np.sqrt(1 - v**2/c**2)\n",
    "    tdot = (t - v*x/c**2) / np.sqrt(1 - v**2/c**2)\n",
    "    return xdot, tdot"
   ]
  },
  {
   "cell_type": "code",
   "execution_count": null,
   "id": "8c925407",
   "metadata": {},
   "outputs": [],
   "source": [
    "x = np.arange(5)\n",
    "t = np.arange(5)\n",
    "\n",
    "\n",
    "lorenz_transform()"
   ]
  }
 ],
 "metadata": {
  "kernelspec": {
   "display_name": "Python 3 (ipykernel)",
   "language": "python",
   "name": "python3"
  },
  "language_info": {
   "codemirror_mode": {
    "name": "ipython",
    "version": 3
   },
   "file_extension": ".py",
   "mimetype": "text/x-python",
   "name": "python",
   "nbconvert_exporter": "python",
   "pygments_lexer": "ipython3",
   "version": "3.9.7"
  }
 },
 "nbformat": 4,
 "nbformat_minor": 5
}
